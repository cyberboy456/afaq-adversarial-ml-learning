{
 "cells": [
  {
   "cell_type": "code",
   "execution_count": 13,
   "id": "3747a2ad-565a-4886-9592-6f8ca0ecc3ae",
   "metadata": {},
   "outputs": [
    {
     "name": "stdout",
     "output_type": "stream",
     "text": [
      "(4,)\n",
      "int32\n",
      "1\n",
      "5.0\n",
      "8\n",
      "2\n"
     ]
    }
   ],
   "source": [
    "import numpy as np\n",
    "arr=np.array([2,4,6,8])\n",
    "print(arr.shape)\n",
    "print(arr.dtype)\n",
    "print(arr.ndim)\n",
    "print(np.mean(arr))\n",
    "print(np.max(arr))\n",
    "print(np.min(arr))\n"
   ]
  },
  {
   "cell_type": "code",
   "execution_count": 5,
   "id": "1d315b73-228a-427f-a680-eade07b7f89c",
   "metadata": {},
   "outputs": [
    {
     "name": "stdout",
     "output_type": "stream",
     "text": [
      "2\n",
      "[2 6]\n"
     ]
    }
   ],
   "source": [
    "matrix=np.array([[1,2,3],[5,6,7]])\n",
    "print(matrix[0,1])\n",
    "print(matrix[:,1])"
   ]
  },
  {
   "cell_type": "code",
   "execution_count": 9,
   "id": "514b7ff2-5e5c-4906-af90-fcebeb4b9bbf",
   "metadata": {},
   "outputs": [],
   "source": [
    "a=np.array([[1,2],[3,4]])\n",
    "a_reshaped=a.reshape(4,)"
   ]
  },
  {
   "cell_type": "code",
   "execution_count": 11,
   "id": "70fae5b7-45e1-462f-b224-0af532ab9170",
   "metadata": {},
   "outputs": [
    {
     "name": "stdout",
     "output_type": "stream",
     "text": [
      "[5 6 9]\n",
      "[-3 -2 -3]\n",
      "[2 4 6]\n",
      "[ 4  8 18]\n"
     ]
    }
   ],
   "source": [
    "a=np.array([1,2,3])\n",
    "b=np.array([4,4,6])\n",
    "print(a+b)\n",
    "print(a-b)\n",
    "print(a*2)\n",
    "print(a*b)"
   ]
  },
  {
   "cell_type": "code",
   "execution_count": null,
   "id": "ef3d3e10-6dd6-4bd2-9dd1-8d3c2975eea4",
   "metadata": {},
   "outputs": [],
   "source": []
  }
 ],
 "metadata": {
  "kernelspec": {
   "display_name": "Python 3 (ipykernel)",
   "language": "python",
   "name": "python3"
  },
  "language_info": {
   "codemirror_mode": {
    "name": "ipython",
    "version": 3
   },
   "file_extension": ".py",
   "mimetype": "text/x-python",
   "name": "python",
   "nbconvert_exporter": "python",
   "pygments_lexer": "ipython3",
   "version": "3.12.7"
  }
 },
 "nbformat": 4,
 "nbformat_minor": 5
}
