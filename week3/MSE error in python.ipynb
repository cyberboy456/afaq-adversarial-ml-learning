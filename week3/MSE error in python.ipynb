{
 "cells": [
  {
   "cell_type": "code",
   "execution_count": 9,
   "id": "0d789f0d-7edc-4df0-aeaa-05bb09c39125",
   "metadata": {},
   "outputs": [
    {
     "ename": "SyntaxError",
     "evalue": "invalid syntax. Perhaps you forgot a comma? (955859763.py, line 12)",
     "output_type": "error",
     "traceback": [
      "\u001b[1;36m  Cell \u001b[1;32mIn[9], line 12\u001b[1;36m\u001b[0m\n\u001b[1;33m    print(\"mse loss:\"m,loss)\u001b[0m\n\u001b[1;37m          ^\u001b[0m\n\u001b[1;31mSyntaxError\u001b[0m\u001b[1;31m:\u001b[0m invalid syntax. Perhaps you forgot a comma?\n"
     ]
    }
   ],
   "source": [
    "def mean_square_error(y_true,y_pred):\n",
    "    error_sum=0\n",
    "    n=len(y_true)\n",
    "    for i in range(n):\n",
    "        error=y_true[i] - y_pred[i]\n",
    "        error_sum+= error ** 2\n",
    "    mse=error_sum/n\n",
    "    return mse\n",
    "y_true=[1,0,1,1]\n",
    "y_pred=[0.9,0.1,0.8,0.4]\n",
    "loss=mean_squared_error(y_true,y_pred)\n",
    "print(\"mse loss:\"m,loss)"
   ]
  },
  {
   "cell_type": "code",
   "execution_count": null,
   "id": "89e4d7d5-b552-4e46-9c67-94022dbe4436",
   "metadata": {},
   "outputs": [],
   "source": []
  }
 ],
 "metadata": {
  "kernelspec": {
   "display_name": "Python 3 (ipykernel)",
   "language": "python",
   "name": "python3"
  },
  "language_info": {
   "codemirror_mode": {
    "name": "ipython",
    "version": 3
   },
   "file_extension": ".py",
   "mimetype": "text/x-python",
   "name": "python",
   "nbconvert_exporter": "python",
   "pygments_lexer": "ipython3",
   "version": "3.12.7"
  }
 },
 "nbformat": 4,
 "nbformat_minor": 5
}
