{
 "cells": [
  {
   "cell_type": "code",
   "execution_count": 15,
   "id": "2d00f9a2-71e2-4cb4-b18c-faf865f6ec98",
   "metadata": {},
   "outputs": [
    {
     "name": "stdout",
     "output_type": "stream",
     "text": [
      "1\n",
      "0\n",
      "0\n",
      "0\n"
     ]
    }
   ],
   "source": [
    "def simple_neuron(x1, x2):\n",
    "    w1 = 1\n",
    "    w2 = 1\n",
    "    bias = -1.5\n",
    "    result = (x1 * w1) + (x2 * w2) + bias\n",
    "\n",
    "    if result >= 0:\n",
    "        return 1\n",
    "    else:\n",
    "        return 0\n",
    "print(simple_neuron(1, 1))  \n",
    "print(simple_neuron(1, 0)) \n",
    "print(simple_neuron(0, 1))  \n",
    "print(simple_neuron(0, 0))  \n"
   ]
  },
  {
   "cell_type": "code",
   "execution_count": null,
   "id": "f852abe2-a859-4830-bfda-7ef8a33ec546",
   "metadata": {},
   "outputs": [],
   "source": []
  }
 ],
 "metadata": {
  "kernelspec": {
   "display_name": "Python 3 (ipykernel)",
   "language": "python",
   "name": "python3"
  },
  "language_info": {
   "codemirror_mode": {
    "name": "ipython",
    "version": 3
   },
   "file_extension": ".py",
   "mimetype": "text/x-python",
   "name": "python",
   "nbconvert_exporter": "python",
   "pygments_lexer": "ipython3",
   "version": "3.12.7"
  }
 },
 "nbformat": 4,
 "nbformat_minor": 5
}
