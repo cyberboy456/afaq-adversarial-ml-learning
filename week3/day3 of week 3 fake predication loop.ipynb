{
 "cells": [
  {
   "cell_type": "code",
   "execution_count": 5,
   "id": "23a049ae-38cf-44cd-bf13-61fbc58a40ee",
   "metadata": {},
   "outputs": [
    {
     "name": "stdout",
     "output_type": "stream",
     "text": [
      "input:[0.6 0.3 0.9] ->predictions:0.910,Target:0.9\n",
      "input:[0.9 0.5 0.1] ->predictions:0.680,Target:1.1\n",
      "input:[0.2 0.8 0.7] ->predictions:0.430,Target:0.8\n"
     ]
    }
   ],
   "source": [
    "import numpy as np\n",
    "def predict(inputs,weights,bias):\n",
    "    return np.dot(inputs,weights)+bias\n",
    "input_data=np.array([\n",
    "    [0.6,0.3,0.9],\n",
    "    [0.9,0.5,0.1],\n",
    "    [0.2,0.8,0.7]])\n",
    "weights=np.array([0.7,-0.2,0.5])\n",
    "bias=0.1\n",
    "targets=np.array([0.9,1.1,0.8])\n",
    "predications=[]\n",
    "for i in range(len(input_data)):\n",
    "    output=predict(input_data[i],weights,bias)\n",
    "    predications.append(output)\n",
    "    print(f\"input:{input_data[i]} ->predictions:{output:.3f},Target:{targets[i]}\")"
   ]
  },
  {
   "cell_type": "code",
   "execution_count": null,
   "id": "ecb6e78f-834f-4405-8b51-68e7fa07be00",
   "metadata": {},
   "outputs": [],
   "source": []
  }
 ],
 "metadata": {
  "kernelspec": {
   "display_name": "Python 3 (ipykernel)",
   "language": "python",
   "name": "python3"
  },
  "language_info": {
   "codemirror_mode": {
    "name": "ipython",
    "version": 3
   },
   "file_extension": ".py",
   "mimetype": "text/x-python",
   "name": "python",
   "nbconvert_exporter": "python",
   "pygments_lexer": "ipython3",
   "version": "3.12.7"
  }
 },
 "nbformat": 4,
 "nbformat_minor": 5
}
